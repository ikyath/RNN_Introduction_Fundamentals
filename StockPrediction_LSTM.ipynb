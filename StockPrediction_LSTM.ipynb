{
  "nbformat": 4,
  "nbformat_minor": 0,
  "metadata": {
    "colab": {
      "name": "StockPrediction_LSTM.ipynb",
      "provenance": [],
      "collapsed_sections": [],
      "include_colab_link": true
    },
    "kernelspec": {
      "name": "python3",
      "display_name": "Python 3"
    },
    "accelerator": "GPU"
  },
  "cells": [
    {
      "cell_type": "markdown",
      "metadata": {
        "id": "view-in-github",
        "colab_type": "text"
      },
      "source": [
        "<a href=\"https://colab.research.google.com/github/ikyath/RNN_Introduction_Fundamentals/blob/master/StockPrediction_LSTM.ipynb\" target=\"_parent\"><img src=\"https://colab.research.google.com/assets/colab-badge.svg\" alt=\"Open In Colab\"/></a>"
      ]
    },
    {
      "cell_type": "markdown",
      "metadata": {
        "id": "S8H94yZSakwa",
        "colab_type": "text"
      },
      "source": [
        "**Stock Time Series**\n",
        "\n",
        "This suite of APIs provide realtime and historical global equity data in 4 different temporal resolutions: (1) daily, (2) weekly, (3) monthly, and (4) intraday. Daily, weekly, and monthly time series contain 20+ years of historical data."
      ]
    },
    {
      "cell_type": "code",
      "metadata": {
        "id": "Um31HmrtFU6y",
        "colab_type": "code",
        "outputId": "a025b8ee-af6c-4900-d591-3783c9d5f70b",
        "colab": {
          "base_uri": "https://localhost:8080/",
          "height": 275
        }
      },
      "source": [
        "!pip install alpha-vantage"
      ],
      "execution_count": 0,
      "outputs": [
        {
          "output_type": "stream",
          "text": [
            "Collecting alpha-vantage\n",
            "  Downloading https://files.pythonhosted.org/packages/c9/72/c3a2a8371f94515a2f0b1203dc152cf8d82dc17baeea0c1af5a23d10eca7/alpha_vantage-2.1.3.tar.gz\n",
            "Requirement already satisfied: requests in /usr/local/lib/python3.6/dist-packages (from alpha-vantage) (2.21.0)\n",
            "Requirement already satisfied: idna<2.9,>=2.5 in /usr/local/lib/python3.6/dist-packages (from requests->alpha-vantage) (2.8)\n",
            "Requirement already satisfied: urllib3<1.25,>=1.21.1 in /usr/local/lib/python3.6/dist-packages (from requests->alpha-vantage) (1.24.3)\n",
            "Requirement already satisfied: chardet<3.1.0,>=3.0.2 in /usr/local/lib/python3.6/dist-packages (from requests->alpha-vantage) (3.0.4)\n",
            "Requirement already satisfied: certifi>=2017.4.17 in /usr/local/lib/python3.6/dist-packages (from requests->alpha-vantage) (2020.4.5.1)\n",
            "Building wheels for collected packages: alpha-vantage\n",
            "  Building wheel for alpha-vantage (setup.py) ... \u001b[?25l\u001b[?25hdone\n",
            "  Created wheel for alpha-vantage: filename=alpha_vantage-2.1.3-cp36-none-any.whl size=14870 sha256=50bb649633fa0a6040665935ce031ad837efb2e7a56085db27f65cf602acadcc\n",
            "  Stored in directory: /root/.cache/pip/wheels/d4/75/c2/483b0a988fd965b1128c1396a0ffadfb8903bd2bb569220048\n",
            "Successfully built alpha-vantage\n",
            "Installing collected packages: alpha-vantage\n",
            "Successfully installed alpha-vantage-2.1.3\n"
          ],
          "name": "stdout"
        }
      ]
    },
    {
      "cell_type": "markdown",
      "metadata": {
        "id": "yNszdLGpYgMQ",
        "colab_type": "text"
      },
      "source": [
        "Importing the libraries"
      ]
    },
    {
      "cell_type": "code",
      "metadata": {
        "id": "mdk2tg2OFNvi",
        "colab_type": "code",
        "colab": {}
      },
      "source": [
        "import numpy as np\n",
        "import pandas as pd\n",
        "import matplotlib.pyplot as plt\n",
        "from sklearn.preprocessing import MinMaxScaler\n",
        "from keras.models import Sequential\n",
        "from keras.layers import Dense,LSTM,Dropout,Bidirectional\n",
        "from alpha_vantage.timeseries import TimeSeries"
      ],
      "execution_count": 0,
      "outputs": []
    },
    {
      "cell_type": "code",
      "metadata": {
        "id": "DxIGdt9snoe0",
        "colab_type": "code",
        "colab": {}
      },
      "source": [
        "def alpha_vanatage(symbol,outputsize):\n",
        "  ts = TimeSeries(key='5W7LO5BBKDO63VCC', output_format='pandas',indexing_type='integer')\n",
        "  dataset, meta_data = ts.get_daily(symbol=symbol, outputsize=outputsize)\n",
        "  return dataset\n"
      ],
      "execution_count": 0,
      "outputs": []
    },
    {
      "cell_type": "code",
      "metadata": {
        "id": "-dXlcoCtFQXE",
        "colab_type": "code",
        "outputId": "060b9f87-cf27-440e-ea6a-ad99a0e0b7f7",
        "colab": {
          "base_uri": "https://localhost:8080/",
          "height": 34
        }
      },
      "source": [
        "dataset = alpha_vanatage('AAPl','full')\n",
        "print(dataset.shape)"
      ],
      "execution_count": 0,
      "outputs": [
        {
          "output_type": "stream",
          "text": [
            "(5032, 6)\n"
          ],
          "name": "stdout"
        }
      ]
    },
    {
      "cell_type": "markdown",
      "metadata": {
        "id": "TcY0D2CZsYhg",
        "colab_type": "text"
      },
      "source": [
        "## **Data Preprocessing**"
      ]
    },
    {
      "cell_type": "code",
      "metadata": {
        "id": "jShR1Gd4FgFi",
        "colab_type": "code",
        "outputId": "2cf2832b-e6f4-4aa2-c5ff-236a9fcfa1a2",
        "colab": {
          "base_uri": "https://localhost:8080/",
          "height": 235
        }
      },
      "source": [
        "dataset.head()"
      ],
      "execution_count": 0,
      "outputs": [
        {
          "output_type": "execute_result",
          "data": {
            "text/html": [
              "<div>\n",
              "<style scoped>\n",
              "    .dataframe tbody tr th:only-of-type {\n",
              "        vertical-align: middle;\n",
              "    }\n",
              "\n",
              "    .dataframe tbody tr th {\n",
              "        vertical-align: top;\n",
              "    }\n",
              "\n",
              "    .dataframe thead th {\n",
              "        text-align: right;\n",
              "    }\n",
              "</style>\n",
              "<table border=\"1\" class=\"dataframe\">\n",
              "  <thead>\n",
              "    <tr style=\"text-align: right;\">\n",
              "      <th></th>\n",
              "      <th>index</th>\n",
              "      <th>1. open</th>\n",
              "      <th>2. high</th>\n",
              "      <th>3. low</th>\n",
              "      <th>4. close</th>\n",
              "      <th>5. volume</th>\n",
              "    </tr>\n",
              "    <tr>\n",
              "      <th>index</th>\n",
              "      <th></th>\n",
              "      <th></th>\n",
              "      <th></th>\n",
              "      <th></th>\n",
              "      <th></th>\n",
              "      <th></th>\n",
              "    </tr>\n",
              "  </thead>\n",
              "  <tbody>\n",
              "    <tr>\n",
              "      <th>0</th>\n",
              "      <td>2020-04-17</td>\n",
              "      <td>284.69</td>\n",
              "      <td>286.9450</td>\n",
              "      <td>276.8600</td>\n",
              "      <td>282.80</td>\n",
              "      <td>53451248.0</td>\n",
              "    </tr>\n",
              "    <tr>\n",
              "      <th>1</th>\n",
              "      <td>2020-04-16</td>\n",
              "      <td>287.38</td>\n",
              "      <td>288.1975</td>\n",
              "      <td>282.3502</td>\n",
              "      <td>286.69</td>\n",
              "      <td>39281290.0</td>\n",
              "    </tr>\n",
              "    <tr>\n",
              "      <th>2</th>\n",
              "      <td>2020-04-15</td>\n",
              "      <td>282.40</td>\n",
              "      <td>286.3300</td>\n",
              "      <td>280.6300</td>\n",
              "      <td>284.43</td>\n",
              "      <td>32788641.0</td>\n",
              "    </tr>\n",
              "    <tr>\n",
              "      <th>3</th>\n",
              "      <td>2020-04-14</td>\n",
              "      <td>280.00</td>\n",
              "      <td>288.2500</td>\n",
              "      <td>278.0500</td>\n",
              "      <td>287.05</td>\n",
              "      <td>48748672.0</td>\n",
              "    </tr>\n",
              "    <tr>\n",
              "      <th>4</th>\n",
              "      <td>2020-04-13</td>\n",
              "      <td>268.31</td>\n",
              "      <td>273.7000</td>\n",
              "      <td>265.8300</td>\n",
              "      <td>273.25</td>\n",
              "      <td>32755731.0</td>\n",
              "    </tr>\n",
              "  </tbody>\n",
              "</table>\n",
              "</div>"
            ],
            "text/plain": [
              "            index  1. open   2. high    3. low  4. close   5. volume\n",
              "index                                                               \n",
              "0      2020-04-17   284.69  286.9450  276.8600    282.80  53451248.0\n",
              "1      2020-04-16   287.38  288.1975  282.3502    286.69  39281290.0\n",
              "2      2020-04-15   282.40  286.3300  280.6300    284.43  32788641.0\n",
              "3      2020-04-14   280.00  288.2500  278.0500    287.05  48748672.0\n",
              "4      2020-04-13   268.31  273.7000  265.8300    273.25  32755731.0"
            ]
          },
          "metadata": {
            "tags": []
          },
          "execution_count": 8
        }
      ]
    },
    {
      "cell_type": "markdown",
      "metadata": {
        "id": "sTlPEgArPKSU",
        "colab_type": "text"
      },
      "source": [
        "Lets sort the data in increasing order of date"
      ]
    },
    {
      "cell_type": "code",
      "metadata": {
        "id": "U9zsGEzIPIx5",
        "colab_type": "code",
        "colab": {}
      },
      "source": [
        "dataset = dataset.iloc[::-1]"
      ],
      "execution_count": 0,
      "outputs": []
    },
    {
      "cell_type": "code",
      "metadata": {
        "id": "NM1hp2meP0kC",
        "colab_type": "code",
        "colab": {}
      },
      "source": [
        "dataset = dataset.set_index(pd.Series(range(dataset.shape[0])))"
      ],
      "execution_count": 0,
      "outputs": []
    },
    {
      "cell_type": "code",
      "metadata": {
        "id": "XQurKi6zPc_l",
        "colab_type": "code",
        "outputId": "5cd6c89d-275b-4c8d-e88f-2acfdffe309c",
        "colab": {
          "base_uri": "https://localhost:8080/",
          "height": 204
        }
      },
      "source": [
        "dataset.head()"
      ],
      "execution_count": 0,
      "outputs": [
        {
          "output_type": "execute_result",
          "data": {
            "text/html": [
              "<div>\n",
              "<style scoped>\n",
              "    .dataframe tbody tr th:only-of-type {\n",
              "        vertical-align: middle;\n",
              "    }\n",
              "\n",
              "    .dataframe tbody tr th {\n",
              "        vertical-align: top;\n",
              "    }\n",
              "\n",
              "    .dataframe thead th {\n",
              "        text-align: right;\n",
              "    }\n",
              "</style>\n",
              "<table border=\"1\" class=\"dataframe\">\n",
              "  <thead>\n",
              "    <tr style=\"text-align: right;\">\n",
              "      <th></th>\n",
              "      <th>index</th>\n",
              "      <th>1. open</th>\n",
              "      <th>2. high</th>\n",
              "      <th>3. low</th>\n",
              "      <th>4. close</th>\n",
              "      <th>5. volume</th>\n",
              "    </tr>\n",
              "  </thead>\n",
              "  <tbody>\n",
              "    <tr>\n",
              "      <th>0</th>\n",
              "      <td>2000-04-17</td>\n",
              "      <td>109.50</td>\n",
              "      <td>123.94</td>\n",
              "      <td>109.06</td>\n",
              "      <td>123.87</td>\n",
              "      <td>3656800.0</td>\n",
              "    </tr>\n",
              "    <tr>\n",
              "      <th>1</th>\n",
              "      <td>2000-04-18</td>\n",
              "      <td>123.50</td>\n",
              "      <td>126.87</td>\n",
              "      <td>119.37</td>\n",
              "      <td>126.87</td>\n",
              "      <td>3490400.0</td>\n",
              "    </tr>\n",
              "    <tr>\n",
              "      <th>2</th>\n",
              "      <td>2000-04-19</td>\n",
              "      <td>126.19</td>\n",
              "      <td>130.25</td>\n",
              "      <td>119.75</td>\n",
              "      <td>121.12</td>\n",
              "      <td>4644200.0</td>\n",
              "    </tr>\n",
              "    <tr>\n",
              "      <th>3</th>\n",
              "      <td>2000-04-20</td>\n",
              "      <td>123.69</td>\n",
              "      <td>124.75</td>\n",
              "      <td>117.06</td>\n",
              "      <td>118.87</td>\n",
              "      <td>6447500.0</td>\n",
              "    </tr>\n",
              "    <tr>\n",
              "      <th>4</th>\n",
              "      <td>2000-04-24</td>\n",
              "      <td>115.00</td>\n",
              "      <td>120.50</td>\n",
              "      <td>114.75</td>\n",
              "      <td>120.50</td>\n",
              "      <td>3960900.0</td>\n",
              "    </tr>\n",
              "  </tbody>\n",
              "</table>\n",
              "</div>"
            ],
            "text/plain": [
              "        index  1. open  2. high  3. low  4. close  5. volume\n",
              "0  2000-04-17   109.50   123.94  109.06    123.87  3656800.0\n",
              "1  2000-04-18   123.50   126.87  119.37    126.87  3490400.0\n",
              "2  2000-04-19   126.19   130.25  119.75    121.12  4644200.0\n",
              "3  2000-04-20   123.69   124.75  117.06    118.87  6447500.0\n",
              "4  2000-04-24   115.00   120.50  114.75    120.50  3960900.0"
            ]
          },
          "metadata": {
            "tags": []
          },
          "execution_count": 11
        }
      ]
    },
    {
      "cell_type": "markdown",
      "metadata": {
        "id": "bqOtpnUnOe6a",
        "colab_type": "text"
      },
      "source": [
        "Lets us visualize the complete trend from 2000 to current day."
      ]
    },
    {
      "cell_type": "code",
      "metadata": {
        "id": "nNe1PEyAN9rL",
        "colab_type": "code",
        "outputId": "7ae51900-2d92-41b8-f060-7c5d4314fea3",
        "colab": {
          "base_uri": "https://localhost:8080/",
          "height": 442
        }
      },
      "source": [
        "plt.figure(figsize=(25,8))\n",
        "plt.plot(dataset['1. open'],color='green')"
      ],
      "execution_count": 0,
      "outputs": [
        {
          "output_type": "execute_result",
          "data": {
            "text/plain": [
              "[<matplotlib.lines.Line2D at 0x7f6122a9c358>]"
            ]
          },
          "metadata": {
            "tags": []
          },
          "execution_count": 12
        },
        {
          "output_type": "display_data",
          "data": {
            "image/png": "[encoded data removed]",
            "text/plain": [
              "<Figure size 1800x576 with 1 Axes>"
            ]
          },
          "metadata": {
            "tags": [],
            "needs_background": "light"
          }
        }
      ]
    },
    {
      "cell_type": "markdown",
      "metadata": {
        "id": "kqiiW50zTLHk",
        "colab_type": "text"
      },
      "source": [
        "We are trying to predict the trend in last 60days, \n",
        "Please find below for the actual trend in last 60 days"
      ]
    },
    {
      "cell_type": "code",
      "metadata": {
        "id": "VlUv5oR-OqQh",
        "colab_type": "code",
        "outputId": "9f509eab-a1ee-4255-c1fb-1f582743a92d",
        "colab": {
          "base_uri": "https://localhost:8080/",
          "height": 442
        }
      },
      "source": [
        "plt.figure(figsize=(25,8))\n",
        "plt.plot(dataset.iloc[-60:,1:2],color='red')"
      ],
      "execution_count": 0,
      "outputs": [
        {
          "output_type": "execute_result",
          "data": {
            "text/plain": [
              "[<matplotlib.lines.Line2D at 0x7f6122969cc0>]"
            ]
          },
          "metadata": {
            "tags": []
          },
          "execution_count": 13
        },
        {
          "output_type": "display_data",
          "data": {
            "image/png": "[encoded data removed]",
            "text/plain": [
              "<Figure size 1800x576 with 1 Axes>"
            ]
          },
          "metadata": {
            "tags": [],
            "needs_background": "light"
          }
        }
      ]
    },
    {
      "cell_type": "code",
      "metadata": {
        "id": "HcdPIVjrFmOR",
        "colab_type": "code",
        "outputId": "bae72a11-5eeb-47d0-c64e-e4ff1250bb37",
        "colab": {
          "base_uri": "https://localhost:8080/",
          "height": 204
        }
      },
      "source": [
        "dataset.head()"
      ],
      "execution_count": 0,
      "outputs": [
        {
          "output_type": "execute_result",
          "data": {
            "text/html": [
              "<div>\n",
              "<style scoped>\n",
              "    .dataframe tbody tr th:only-of-type {\n",
              "        vertical-align: middle;\n",
              "    }\n",
              "\n",
              "    .dataframe tbody tr th {\n",
              "        vertical-align: top;\n",
              "    }\n",
              "\n",
              "    .dataframe thead th {\n",
              "        text-align: right;\n",
              "    }\n",
              "</style>\n",
              "<table border=\"1\" class=\"dataframe\">\n",
              "  <thead>\n",
              "    <tr style=\"text-align: right;\">\n",
              "      <th></th>\n",
              "      <th>index</th>\n",
              "      <th>1. open</th>\n",
              "      <th>2. high</th>\n",
              "      <th>3. low</th>\n",
              "      <th>4. close</th>\n",
              "      <th>5. volume</th>\n",
              "    </tr>\n",
              "  </thead>\n",
              "  <tbody>\n",
              "    <tr>\n",
              "      <th>0</th>\n",
              "      <td>2000-04-17</td>\n",
              "      <td>109.50</td>\n",
              "      <td>123.94</td>\n",
              "      <td>109.06</td>\n",
              "      <td>123.87</td>\n",
              "      <td>3656800.0</td>\n",
              "    </tr>\n",
              "    <tr>\n",
              "      <th>1</th>\n",
              "      <td>2000-04-18</td>\n",
              "      <td>123.50</td>\n",
              "      <td>126.87</td>\n",
              "      <td>119.37</td>\n",
              "      <td>126.87</td>\n",
              "      <td>3490400.0</td>\n",
              "    </tr>\n",
              "    <tr>\n",
              "      <th>2</th>\n",
              "      <td>2000-04-19</td>\n",
              "      <td>126.19</td>\n",
              "      <td>130.25</td>\n",
              "      <td>119.75</td>\n",
              "      <td>121.12</td>\n",
              "      <td>4644200.0</td>\n",
              "    </tr>\n",
              "    <tr>\n",
              "      <th>3</th>\n",
              "      <td>2000-04-20</td>\n",
              "      <td>123.69</td>\n",
              "      <td>124.75</td>\n",
              "      <td>117.06</td>\n",
              "      <td>118.87</td>\n",
              "      <td>6447500.0</td>\n",
              "    </tr>\n",
              "    <tr>\n",
              "      <th>4</th>\n",
              "      <td>2000-04-24</td>\n",
              "      <td>115.00</td>\n",
              "      <td>120.50</td>\n",
              "      <td>114.75</td>\n",
              "      <td>120.50</td>\n",
              "      <td>3960900.0</td>\n",
              "    </tr>\n",
              "  </tbody>\n",
              "</table>\n",
              "</div>"
            ],
            "text/plain": [
              "        index  1. open  2. high  3. low  4. close  5. volume\n",
              "0  2000-04-17   109.50   123.94  109.06    123.87  3656800.0\n",
              "1  2000-04-18   123.50   126.87  119.37    126.87  3490400.0\n",
              "2  2000-04-19   126.19   130.25  119.75    121.12  4644200.0\n",
              "3  2000-04-20   123.69   124.75  117.06    118.87  6447500.0\n",
              "4  2000-04-24   115.00   120.50  114.75    120.50  3960900.0"
            ]
          },
          "metadata": {
            "tags": []
          },
          "execution_count": 14
        }
      ]
    },
    {
      "cell_type": "markdown",
      "metadata": {
        "id": "8C-sSVQPYoTD",
        "colab_type": "text"
      },
      "source": [
        "Creating the train and test data from the original dataset"
      ]
    },
    {
      "cell_type": "code",
      "metadata": {
        "id": "awbmITtwFqMG",
        "colab_type": "code",
        "colab": {}
      },
      "source": [
        "dataset_train = dataset.iloc[:4971,:]"
      ],
      "execution_count": 0,
      "outputs": []
    },
    {
      "cell_type": "code",
      "metadata": {
        "id": "oRaOIWLcFrWH",
        "colab_type": "code",
        "colab": {}
      },
      "source": [
        "dataset_test = dataset.iloc[-60:,:]"
      ],
      "execution_count": 0,
      "outputs": []
    },
    {
      "cell_type": "code",
      "metadata": {
        "id": "3t7Hk2XoFt5-",
        "colab_type": "code",
        "outputId": "c7dd7327-b294-42b7-89c8-e9c8cec6520b",
        "colab": {
          "base_uri": "https://localhost:8080/",
          "height": 34
        }
      },
      "source": [
        "print(dataset_train.shape,dataset_test.shape)"
      ],
      "execution_count": 0,
      "outputs": [
        {
          "output_type": "stream",
          "text": [
            "(4971, 6) (60, 6)\n"
          ],
          "name": "stdout"
        }
      ]
    },
    {
      "cell_type": "markdown",
      "metadata": {
        "id": "Z6hwqtsFKfIq",
        "colab_type": "text"
      },
      "source": [
        "To create a numpy array of train values"
      ]
    },
    {
      "cell_type": "code",
      "metadata": {
        "id": "qgwxF8MuFydS",
        "colab_type": "code",
        "colab": {}
      },
      "source": [
        "train = dataset_train.iloc[:,1:2].values"
      ],
      "execution_count": 0,
      "outputs": []
    },
    {
      "cell_type": "markdown",
      "metadata": {
        "id": "DVCoVxN1Kri3",
        "colab_type": "text"
      },
      "source": [
        "We have a numpy array of one column"
      ]
    },
    {
      "cell_type": "code",
      "metadata": {
        "id": "pGWsi-KtF2tQ",
        "colab_type": "code",
        "outputId": "944d12f8-6b4c-4945-fcef-d84bb31ed98d",
        "colab": {
          "base_uri": "https://localhost:8080/",
          "height": 187
        }
      },
      "source": [
        "train[:10]"
      ],
      "execution_count": 0,
      "outputs": [
        {
          "output_type": "execute_result",
          "data": {
            "text/plain": [
              "array([[109.5 ],\n",
              "       [123.5 ],\n",
              "       [126.19],\n",
              "       [123.69],\n",
              "       [115.  ],\n",
              "       [122.12],\n",
              "       [126.62],\n",
              "       [117.19],\n",
              "       [127.12],\n",
              "       [124.87]])"
            ]
          },
          "metadata": {
            "tags": []
          },
          "execution_count": 19
        }
      ]
    },
    {
      "cell_type": "markdown",
      "metadata": {
        "id": "uwGfMz5WLaWh",
        "colab_type": "text"
      },
      "source": [
        "## **Feature Scaling**"
      ]
    },
    {
      "cell_type": "code",
      "metadata": {
        "id": "Ywf2pTYCF5oi",
        "colab_type": "code",
        "colab": {}
      },
      "source": [
        "scale = MinMaxScaler(feature_range=(0,1))"
      ],
      "execution_count": 0,
      "outputs": []
    },
    {
      "cell_type": "code",
      "metadata": {
        "id": "4CmVyQLjF6rF",
        "colab_type": "code",
        "colab": {}
      },
      "source": [
        "train_scaled = scale.fit_transform(train)"
      ],
      "execution_count": 0,
      "outputs": []
    },
    {
      "cell_type": "code",
      "metadata": {
        "id": "C7JYIEMYF9K3",
        "colab_type": "code",
        "outputId": "0eba98cc-b1a8-42de-ab7f-2b1dfbae6724",
        "colab": {
          "base_uri": "https://localhost:8080/",
          "height": 187
        }
      },
      "source": [
        "train_scaled[:10]"
      ],
      "execution_count": 0,
      "outputs": [
        {
          "output_type": "execute_result",
          "data": {
            "text/plain": [
              "array([[0.13998724],\n",
              "       [0.16029416],\n",
              "       [0.16419599],\n",
              "       [0.16056975],\n",
              "       [0.14796496],\n",
              "       [0.15829248],\n",
              "       [0.1648197 ],\n",
              "       [0.15114154],\n",
              "       [0.16554495],\n",
              "       [0.16228134]])"
            ]
          },
          "metadata": {
            "tags": []
          },
          "execution_count": 22
        }
      ]
    },
    {
      "cell_type": "markdown",
      "metadata": {
        "id": "pDqrV-3SN_z2",
        "colab_type": "text"
      },
      "source": [
        "## **Creating a training data structure** "
      ]
    },
    {
      "cell_type": "markdown",
      "metadata": {
        "id": "wFqk5BmpQmca",
        "colab_type": "text"
      },
      "source": [
        "This means that model is going to take 120 stock prices before time T in which RNNs are going to learn and understand some correlations and based on its understanding its going to predict the next output"
      ]
    },
    {
      "cell_type": "markdown",
      "metadata": {
        "id": "M2AaSSIMRT4R",
        "colab_type": "text"
      },
      "source": [
        "We can try the above by considering different timestamps"
      ]
    },
    {
      "cell_type": "code",
      "metadata": {
        "id": "L-BMrun2Sgqq",
        "colab_type": "code",
        "colab": {}
      },
      "source": [
        "time_len = 120"
      ],
      "execution_count": 0,
      "outputs": []
    },
    {
      "cell_type": "code",
      "metadata": {
        "id": "NVoppuNWF_Zt",
        "colab_type": "code",
        "colab": {}
      },
      "source": [
        "X_train = []\n",
        "y_train = []\n",
        "for i in range(time_len,dataset_train.shape[0]):\n",
        "    X_train.append(train_scaled[i-time_len:i,0])\n",
        "    y_train.append(train_scaled[i,0])\n",
        "X_train,y_train = np.array(X_train),np.array(y_train) #converting to numpy arrays so that they can be accepted in futute to our RNNs"
      ],
      "execution_count": 0,
      "outputs": []
    },
    {
      "cell_type": "markdown",
      "metadata": {
        "id": "ipjsIXx_Rsh0",
        "colab_type": "text"
      },
      "source": [
        "X_train will contain the 120 previous stock prices for current financial day.\n",
        "\n",
        "y_train will contain will contain stock price for current financial day"
      ]
    },
    {
      "cell_type": "code",
      "metadata": {
        "id": "k_PxRE2yTlKx",
        "colab_type": "code",
        "outputId": "79a7fafc-e530-4d55-affb-39cb08da8976",
        "colab": {
          "base_uri": "https://localhost:8080/",
          "height": 357
        }
      },
      "source": [
        "print(X_train[0],y_train[0])"
      ],
      "execution_count": 0,
      "outputs": [
        {
          "output_type": "stream",
          "text": [
            "[0.13998724 0.16029416 0.16419599 0.16056975 0.14796496 0.15829248\n",
            " 0.1648197  0.15114154 0.16554495 0.16228134 0.15993154 0.1536799\n",
            " 0.14813902 0.14188738 0.14374402 0.14116214 0.13209654 0.12819471\n",
            " 0.1349105  0.13789852 0.13276377 0.13145833 0.13055902 0.12511967\n",
            " 0.11714195 0.11242784 0.10617621 0.10952685 0.1088016  0.10825041\n",
            " 0.10716254 0.09973601 0.11714195 0.11650373 0.11456006 0.11695338\n",
            " 0.12275536 0.12149343 0.12094224 0.11342868 0.11850541 0.11351571\n",
            " 0.11677932 0.11251487 0.12403179 0.05440805 0.06202315 0.05916568\n",
            " 0.05730904 0.05916568 0.05848394 0.05812132 0.0577587  0.05677236\n",
            " 0.05839691 0.05730904 0.05743959 0.05961533 0.06383627 0.06547533\n",
            " 0.06601201 0.06402483 0.06564939 0.06601201 0.06121087 0.06093528\n",
            " 0.06000696 0.05739607 0.05413246 0.05345073 0.05368281 0.05698993\n",
            " 0.05246439 0.05413246 0.05223231 0.04724261 0.05291404 0.05060776\n",
            " 0.05069479 0.05097038 0.05078182 0.04909924 0.05018711 0.04969395\n",
            " 0.04915726 0.051333   0.05568449 0.05404543 0.05459662 0.05581503\n",
            " 0.06045662 0.06311102 0.06419889 0.0651127  0.06673726 0.06669374\n",
            " 0.0700879  0.07204607 0.07018943 0.06692582 0.07055206 0.0662876\n",
            " 0.06432944 0.06347364 0.06609904 0.06492414 0.0612979  0.06782513\n",
            " 0.06733196 0.06601201 0.05413246 0.05767167 0.05848394 0.05622117\n",
            " 0.05268196 0.02204752 0.01987178 0.01733341 0.01360564 0.0152447 ] 0.014069797801050159\n"
          ],
          "name": "stdout"
        }
      ]
    },
    {
      "cell_type": "markdown",
      "metadata": {
        "id": "0SDYKnF5TxUO",
        "colab_type": "text"
      },
      "source": [
        "We can see our dataframe with 120 previews of previous stock of the taken financial day"
      ]
    },
    {
      "cell_type": "markdown",
      "metadata": {
        "id": "lOpqqStPUlme",
        "colab_type": "text"
      },
      "source": [
        "We need to create the new dimensionality of the above mentioned new data structure, because that exactly is accepted by the future recurrent network. [Reference](https://keras.io/layers/recurrent/)"
      ]
    },
    {
      "cell_type": "code",
      "metadata": {
        "id": "xtuNmunDGDzv",
        "colab_type": "code",
        "colab": {}
      },
      "source": [
        "X_train = np.reshape(X_train,(X_train.shape[0],X_train.shape[1],1))"
      ],
      "execution_count": 0,
      "outputs": []
    },
    {
      "cell_type": "markdown",
      "metadata": {
        "id": "gt5GWmEXskWN",
        "colab_type": "text"
      },
      "source": [
        "## **Model**"
      ]
    },
    {
      "cell_type": "markdown",
      "metadata": {
        "id": "EBnHLU9oV2yq",
        "colab_type": "text"
      },
      "source": [
        "We will build our model below :"
      ]
    },
    {
      "cell_type": "markdown",
      "metadata": {
        "id": "uG3uiCMlY2lf",
        "colab_type": "text"
      },
      "source": [
        "Since capturing the trends of a stock price is complex, we need to have high number of neurons"
      ]
    },
    {
      "cell_type": "code",
      "metadata": {
        "id": "Hc_Ds3HjGG9J",
        "colab_type": "code",
        "colab": {}
      },
      "source": [
        "model = Sequential()\n",
        "model.add(LSTM(units=50,return_sequences=True,input_shape = (X_train.shape[1],1)))\n",
        "model.add(Dropout(0.2))\n",
        "model.add(LSTM(units=50,return_sequences=True))\n",
        "model.add(Dropout(0.2))\n",
        "model.add(LSTM(units=50,return_sequences=True))\n",
        "model.add(Dropout(0.2))\n",
        "model.add(LSTM(units=50))\n",
        "model.add(Dropout(0.2))\n",
        "model.add(Dense(units=1))"
      ],
      "execution_count": 0,
      "outputs": []
    },
    {
      "cell_type": "code",
      "metadata": {
        "id": "OV2JrBCKGUWq",
        "colab_type": "code",
        "outputId": "49d0e3e4-c211-4f17-fb88-c8d9b4e47abb",
        "colab": {
          "base_uri": "https://localhost:8080/",
          "height": 459
        }
      },
      "source": [
        "model.summary()"
      ],
      "execution_count": 0,
      "outputs": [
        {
          "output_type": "stream",
          "text": [
            "Model: \"sequential_2\"\n",
            "_________________________________________________________________\n",
            "Layer (type)                 Output Shape              Param #   \n",
            "=================================================================\n",
            "lstm_5 (LSTM)                (None, 120, 50)           10400     \n",
            "_________________________________________________________________\n",
            "dropout_5 (Dropout)          (None, 120, 50)           0         \n",
            "_________________________________________________________________\n",
            "lstm_6 (LSTM)                (None, 120, 50)           20200     \n",
            "_________________________________________________________________\n",
            "dropout_6 (Dropout)          (None, 120, 50)           0         \n",
            "_________________________________________________________________\n",
            "lstm_7 (LSTM)                (None, 120, 50)           20200     \n",
            "_________________________________________________________________\n",
            "dropout_7 (Dropout)          (None, 120, 50)           0         \n",
            "_________________________________________________________________\n",
            "lstm_8 (LSTM)                (None, 50)                20200     \n",
            "_________________________________________________________________\n",
            "dropout_8 (Dropout)          (None, 50)                0         \n",
            "_________________________________________________________________\n",
            "dense_2 (Dense)              (None, 1)                 51        \n",
            "=================================================================\n",
            "Total params: 71,051\n",
            "Trainable params: 71,051\n",
            "Non-trainable params: 0\n",
            "_________________________________________________________________\n"
          ],
          "name": "stdout"
        }
      ]
    },
    {
      "cell_type": "code",
      "metadata": {
        "id": "Gfzd2Rx1GX_4",
        "colab_type": "code",
        "colab": {}
      },
      "source": [
        "model.compile(optimizer='RMSProp',loss='mean_squared_error')"
      ],
      "execution_count": 0,
      "outputs": []
    },
    {
      "cell_type": "markdown",
      "metadata": {
        "id": "KhrWgws5apDV",
        "colab_type": "text"
      },
      "source": [
        "RMSProp optimizer is preferred for RNNs [Reference](https://keras.io/optimizers/)"
      ]
    },
    {
      "cell_type": "code",
      "metadata": {
        "id": "bnQcwnvoGbZV",
        "colab_type": "code",
        "outputId": "9620ee98-c700-4bc0-e4a6-ac676f24eb94",
        "colab": {
          "base_uri": "https://localhost:8080/",
          "height": 697
        }
      },
      "source": [
        "history = model.fit(X_train,y_train,epochs=20,batch_size=32)"
      ],
      "execution_count": 0,
      "outputs": [
        {
          "output_type": "stream",
          "text": [
            "Epoch 1/20\n",
            "4851/4851 [==============================] - 44s 9ms/step - loss: 0.0085\n",
            "Epoch 2/20\n",
            "4851/4851 [==============================] - 46s 9ms/step - loss: 0.0040\n",
            "Epoch 3/20\n",
            "4851/4851 [==============================] - 43s 9ms/step - loss: 0.0032\n",
            "Epoch 4/20\n",
            "4851/4851 [==============================] - 40s 8ms/step - loss: 0.0028\n",
            "Epoch 5/20\n",
            "4851/4851 [==============================] - 40s 8ms/step - loss: 0.0025\n",
            "Epoch 6/20\n",
            "4851/4851 [==============================] - 41s 8ms/step - loss: 0.0021\n",
            "Epoch 7/20\n",
            "4851/4851 [==============================] - 40s 8ms/step - loss: 0.0020\n",
            "Epoch 8/20\n",
            "4851/4851 [==============================] - 41s 8ms/step - loss: 0.0018\n",
            "Epoch 9/20\n",
            "4851/4851 [==============================] - 41s 8ms/step - loss: 0.0018\n",
            "Epoch 10/20\n",
            "4851/4851 [==============================] - 41s 8ms/step - loss: 0.0016\n",
            "Epoch 11/20\n",
            "4851/4851 [==============================] - 41s 8ms/step - loss: 0.0016\n",
            "Epoch 12/20\n",
            "4851/4851 [==============================] - 40s 8ms/step - loss: 0.0014\n",
            "Epoch 13/20\n",
            "4851/4851 [==============================] - 42s 9ms/step - loss: 0.0014\n",
            "Epoch 14/20\n",
            "4851/4851 [==============================] - 42s 9ms/step - loss: 0.0014\n",
            "Epoch 15/20\n",
            "4851/4851 [==============================] - 41s 8ms/step - loss: 0.0014\n",
            "Epoch 16/20\n",
            "4851/4851 [==============================] - 41s 8ms/step - loss: 0.0013\n",
            "Epoch 17/20\n",
            "4851/4851 [==============================] - 41s 8ms/step - loss: 0.0012\n",
            "Epoch 18/20\n",
            "4851/4851 [==============================] - 42s 9ms/step - loss: 0.0012\n",
            "Epoch 19/20\n",
            "4851/4851 [==============================] - 41s 9ms/step - loss: 0.0012\n",
            "Epoch 20/20\n",
            "4851/4851 [==============================] - 43s 9ms/step - loss: 0.0012\n"
          ],
          "name": "stdout"
        }
      ]
    },
    {
      "cell_type": "code",
      "metadata": {
        "id": "JEi59_ClqnHP",
        "colab_type": "code",
        "outputId": "4fa7754c-7ec9-4f25-f33a-e2dcde2b1be0",
        "colab": {
          "base_uri": "https://localhost:8080/",
          "height": 295
        }
      },
      "source": [
        "plt.plot(history.history['loss'])\n",
        "plt.title('Model Loss')\n",
        "plt.ylabel('Loss')\n",
        "plt.xlabel('Epochs')\n",
        "plt.show()"
      ],
      "execution_count": 0,
      "outputs": [
        {
          "output_type": "display_data",
          "data": {
            "image/png": "[encoded data removed]",
            "text/plain": [
              "<Figure size 432x288 with 1 Axes>"
            ]
          },
          "metadata": {
            "tags": [],
            "needs_background": "light"
          }
        }
      ]
    },
    {
      "cell_type": "markdown",
      "metadata": {
        "id": "HPV4AZyQj0UQ",
        "colab_type": "text"
      },
      "source": [
        "Here we can visualize that the model's loss decreases in an exponential way as the epochs increase"
      ]
    },
    {
      "cell_type": "markdown",
      "metadata": {
        "id": "mRokaL9IsvzV",
        "colab_type": "text"
      },
      "source": [
        "## **Creating a test data structure - LSTM**"
      ]
    },
    {
      "cell_type": "markdown",
      "metadata": {
        "id": "XOVmDp-SndJQ",
        "colab_type": "text"
      },
      "source": [
        "Get the real stock price from testing dataset and convert it to numpy array"
      ]
    },
    {
      "cell_type": "code",
      "metadata": {
        "id": "qV7kjnjYGcwB",
        "colab_type": "code",
        "colab": {}
      },
      "source": [
        "real_stock_price = dataset_test.iloc[:,1:2].values"
      ],
      "execution_count": 0,
      "outputs": []
    },
    {
      "cell_type": "markdown",
      "metadata": {
        "id": "J-TX30YWoEA6",
        "colab_type": "text"
      },
      "source": [
        "We trained our model in such a way that it can predict the stock price at time T, based on 120 previous stock prices.\n",
        "\n",
        "Therefore to predict stock prices for last 60days, we will need the 120 previous stock prices of the 60 previous financial days."
      ]
    },
    {
      "cell_type": "code",
      "metadata": {
        "id": "hl_HIw5MGgHn",
        "colab_type": "code",
        "colab": {}
      },
      "source": [
        "dataset_total = pd.concat((dataset_train['1. open'],dataset_test['1. open']),axis=0)"
      ],
      "execution_count": 0,
      "outputs": []
    },
    {
      "cell_type": "code",
      "metadata": {
        "id": "-G9thpc5Gjpw",
        "colab_type": "code",
        "colab": {}
      },
      "source": [
        "inputs = dataset_total[len(dataset_total)-len(dataset_test)-120:].values"
      ],
      "execution_count": 0,
      "outputs": []
    },
    {
      "cell_type": "code",
      "metadata": {
        "id": "jk9G1xQSpgab",
        "colab_type": "code",
        "outputId": "3d9e876e-c160-402d-b341-207381f1d54a",
        "colab": {
          "base_uri": "https://localhost:8080/",
          "height": 34
        }
      },
      "source": [
        "inputs.shape"
      ],
      "execution_count": 0,
      "outputs": [
        {
          "output_type": "execute_result",
          "data": {
            "text/plain": [
              "(180,)"
            ]
          },
          "metadata": {
            "tags": []
          },
          "execution_count": 34
        }
      ]
    },
    {
      "cell_type": "markdown",
      "metadata": {
        "id": "z9vniwzYpmsy",
        "colab_type": "text"
      },
      "source": [
        "As mentioned above we have to change the input shape"
      ]
    },
    {
      "cell_type": "code",
      "metadata": {
        "id": "LgaKZ_5-GnTw",
        "colab_type": "code",
        "colab": {}
      },
      "source": [
        "inputs = inputs.reshape(-1,1)"
      ],
      "execution_count": 0,
      "outputs": []
    },
    {
      "cell_type": "code",
      "metadata": {
        "id": "HL1AtRRBpkIs",
        "colab_type": "code",
        "outputId": "d3290661-d06d-4d66-efe3-c7b65496879d",
        "colab": {
          "base_uri": "https://localhost:8080/",
          "height": 34
        }
      },
      "source": [
        "inputs.shape"
      ],
      "execution_count": 0,
      "outputs": [
        {
          "output_type": "execute_result",
          "data": {
            "text/plain": [
              "(180, 1)"
            ]
          },
          "metadata": {
            "tags": []
          },
          "execution_count": 36
        }
      ]
    },
    {
      "cell_type": "markdown",
      "metadata": {
        "id": "7FjGD6HEqmaN",
        "colab_type": "text"
      },
      "source": [
        "As done before we are doing feature scaling for the this data too."
      ]
    },
    {
      "cell_type": "code",
      "metadata": {
        "id": "C8s-xaahGpAf",
        "colab_type": "code",
        "colab": {}
      },
      "source": [
        "inputs = scale.transform(inputs)"
      ],
      "execution_count": 0,
      "outputs": []
    },
    {
      "cell_type": "markdown",
      "metadata": {
        "id": "E2L1ayndqdcJ",
        "colab_type": "text"
      },
      "source": [
        "Creating X_test datastructure similar to X_train"
      ]
    },
    {
      "cell_type": "code",
      "metadata": {
        "id": "Zb0jlVZxGrAC",
        "colab_type": "code",
        "colab": {}
      },
      "source": [
        "X_test = []\n",
        "for i in range(120,120+60):\n",
        "    X_test.append(inputs[i-120:i,0])\n",
        "X_test = np.array(X_test)\n",
        "X_test = np.reshape(X_test,(X_test.shape[0],X_test.shape[1],1))"
      ],
      "execution_count": 0,
      "outputs": []
    },
    {
      "cell_type": "markdown",
      "metadata": {
        "id": "BYA5bPlZs3r8",
        "colab_type": "text"
      },
      "source": [
        "## **Prediction-LSTM**"
      ]
    },
    {
      "cell_type": "code",
      "metadata": {
        "id": "a9NonPG6GttM",
        "colab_type": "code",
        "colab": {}
      },
      "source": [
        "predicted_stock_price = model.predict(X_test)\n",
        "predicted_stock_price = scale.inverse_transform(predicted_stock_price) #inversing the scaling"
      ],
      "execution_count": 0,
      "outputs": []
    },
    {
      "cell_type": "markdown",
      "metadata": {
        "id": "2PrNblCmq_Lo",
        "colab_type": "text"
      },
      "source": [
        "## **Visualizing the results-LSTM**"
      ]
    },
    {
      "cell_type": "code",
      "metadata": {
        "id": "h0Sk6puxGvUL",
        "colab_type": "code",
        "outputId": "ac4931b8-4dc1-408d-9506-4edb065626c3",
        "colab": {
          "base_uri": "https://localhost:8080/",
          "height": 513
        }
      },
      "source": [
        "plt.figure(figsize=(15,8))\n",
        "plt.plot(real_stock_price,color='red',label='Actual Stock Price')\n",
        "plt.plot(predicted_stock_price,color='blue',label='Predicted Stock Price')\n",
        "plt.title('Apple Stock Price Prediction',color='blue')\n",
        "plt.xlabel('Time')\n",
        "plt.ylabel('XYZ Stock Price')\n",
        "plt.legend()\n",
        "plt.show()"
      ],
      "execution_count": 0,
      "outputs": [
        {
          "output_type": "display_data",
          "data": {
            "image/png": "[encoded data removed]",
            "text/plain": [
              "<Figure size 1080x576 with 1 Axes>"
            ]
          },
          "metadata": {
            "tags": [],
            "needs_background": "light"
          }
        }
      ]
    },
    {
      "cell_type": "markdown",
      "metadata": {
        "id": "R0KWPmypr9KZ",
        "colab_type": "text"
      },
      "source": [
        "The RNN we built was a regressor. Indeed, we were dealing with Regression because we were trying to predict a continuous outcome (the Apple Stock Price). For Regression, the way to evaluate the model performance is with a metric called RMSE (Root Mean Squared Error). It is calculated as the root of the mean of the squared differences between the predictions and the real values.\n",
        "\n",
        "However for our specific Stock Price Prediction problem, evaluating the model with the RMSE does not make much sense, since we are more interested in the directions taken by our predictions, rather than the closeness of their values to the real stock price. We want to check if our predictions follow the same directions as the real stock price and we don’t really care whether our predictions are close the real stock price. The predictions could indeed be close but often taking the opposite direction from the real stock price."
      ]
    },
    {
      "cell_type": "markdown",
      "metadata": {
        "id": "1ApOw7NKI2kj",
        "colab_type": "text"
      },
      "source": [
        ""
      ]
    },
    {
      "cell_type": "markdown",
      "metadata": {
        "id": "9VawvYAkI3yY",
        "colab_type": "text"
      },
      "source": [
        "## **LICENSE**"
      ]
    },
    {
      "cell_type": "markdown",
      "metadata": {
        "id": "6f1DmpWRI_51",
        "colab_type": "text"
      },
      "source": [
        "Copyright 2020 Ikyath Varma Dantuluri\n",
        "\n",
        "Permission is hereby granted, free of charge, to any person obtaining a copy of this software and associated documentation files (the \"Software\"), to deal in the Software without restriction, including without limitation the rights to use, copy, modify, merge, publish, distribute, sublicense, and/or sell copies of the Software, and to permit persons to whom the Software is furnished to do so, subject to the following conditions:\n",
        "\n",
        "The above copyright notice and this permission notice shall be included in all copies or substantial portions of the Software.\n",
        "\n",
        "THE SOFTWARE IS PROVIDED \"AS IS\", WITHOUT WARRANTY OF ANY KIND, EXPRESS OR IMPLIED, INCLUDING BUT NOT LIMITED TO THE WARRANTIES OF MERCHANTABILITY, FITNESS FOR A PARTICULAR PURPOSE AND NONINFRINGEMENT. IN NO EVENT SHALL THE AUTHORS OR COPYRIGHT HOLDERS BE LIABLE FOR ANY CLAIM, DAMAGES OR OTHER LIABILITY, WHETHER IN AN ACTION OF CONTRACT, TORT OR OTHERWISE, ARISING FROM, OUT OF OR IN CONNECTION WITH THE SOFTWARE OR THE USE OR OTHER DEALINGS IN THE SOFTWARE."
      ]
    }
  ]
}