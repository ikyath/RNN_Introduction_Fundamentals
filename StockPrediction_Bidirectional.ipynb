{
  "nbformat": 4,
  "nbformat_minor": 0,
  "metadata": {
    "colab": {
      "name": "StockPrediction_Bidirectional.ipynb",
      "provenance": [],
      "collapsed_sections": [],
      "include_colab_link": true
    },
    "kernelspec": {
      "name": "python3",
      "display_name": "Python 3"
    }
  },
  "cells": [
    {
      "cell_type": "markdown",
      "metadata": {
        "id": "view-in-github",
        "colab_type": "text"
      },
      "source": [
        "<a href=\"https://colab.research.google.com/github/ikyath/RNN_Introduction_Fundamentals/blob/master/StockPrediction_Bidirectional.ipynb\" target=\"_parent\"><img src=\"https://colab.research.google.com/assets/colab-badge.svg\" alt=\"Open In Colab\"/></a>"
      ]
    },
    {
      "cell_type": "markdown",
      "metadata": {
        "id": "ZN0r44zr9O3A",
        "colab_type": "text"
      },
      "source": [
        "**Lets work on the same problem of predicting the trends in apple stocks using Bidirectional LSTM**"
      ]
    },
    {
      "cell_type": "markdown",
      "metadata": {
        "id": "fwc85o-JmmR8",
        "colab_type": "text"
      },
      "source": [
        "**Installing the alpha-vantage api**"
      ]
    },
    {
      "cell_type": "code",
      "metadata": {
        "id": "Um31HmrtFU6y",
        "colab_type": "code",
        "outputId": "098d6d4a-a605-4149-ffd4-701b1fb6ca5a",
        "colab": {
          "base_uri": "https://localhost:8080/",
          "height": 119
        }
      },
      "source": [
        "!pip install alpha-vantage"
      ],
      "execution_count": 0,
      "outputs": [
        {
          "output_type": "stream",
          "text": [
            "Requirement already satisfied: alpha-vantage in /usr/local/lib/python3.6/dist-packages (2.1.3)\n",
            "Requirement already satisfied: requests in /usr/local/lib/python3.6/dist-packages (from alpha-vantage) (2.21.0)\n",
            "Requirement already satisfied: certifi>=2017.4.17 in /usr/local/lib/python3.6/dist-packages (from requests->alpha-vantage) (2020.4.5.1)\n",
            "Requirement already satisfied: urllib3<1.25,>=1.21.1 in /usr/local/lib/python3.6/dist-packages (from requests->alpha-vantage) (1.24.3)\n",
            "Requirement already satisfied: chardet<3.1.0,>=3.0.2 in /usr/local/lib/python3.6/dist-packages (from requests->alpha-vantage) (3.0.4)\n",
            "Requirement already satisfied: idna<2.9,>=2.5 in /usr/local/lib/python3.6/dist-packages (from requests->alpha-vantage) (2.8)\n"
          ],
          "name": "stdout"
        }
      ]
    },
    {
      "cell_type": "markdown",
      "metadata": {
        "id": "yNszdLGpYgMQ",
        "colab_type": "text"
      },
      "source": [
        "**Importing the libraries**"
      ]
    },
    {
      "cell_type": "code",
      "metadata": {
        "id": "mdk2tg2OFNvi",
        "colab_type": "code",
        "colab": {}
      },
      "source": [
        "import numpy as np\n",
        "import pandas as pd\n",
        "import matplotlib.pyplot as plt\n",
        "from sklearn.preprocessing import MinMaxScaler\n",
        "from keras.models import Sequential\n",
        "from keras.layers import Dense,LSTM,Dropout,Bidirectional\n",
        "from alpha_vantage.timeseries import TimeSeries"
      ],
      "execution_count": 0,
      "outputs": []
    },
    {
      "cell_type": "code",
      "metadata": {
        "id": "DxIGdt9snoe0",
        "colab_type": "code",
        "colab": {}
      },
      "source": [
        "def alpha_vanatage(symbol,outputsize):\n",
        "  ts = TimeSeries(key='5W7LO5BBKDO63VCC', output_format='pandas',indexing_type='integer')\n",
        "  dataset, meta_data = ts.get_daily(symbol=symbol, outputsize=outputsize)\n",
        "  return dataset\n"
      ],
      "execution_count": 0,
      "outputs": []
    },
    {
      "cell_type": "markdown",
      "metadata": {
        "id": "AqjhEWtIo-OZ",
        "colab_type": "text"
      },
      "source": [
        "Lets look at the size of the dataset"
      ]
    },
    {
      "cell_type": "code",
      "metadata": {
        "id": "-dXlcoCtFQXE",
        "colab_type": "code",
        "outputId": "856f6005-0257-4b29-be14-a0e4d11442c7",
        "colab": {
          "base_uri": "https://localhost:8080/",
          "height": 34
        }
      },
      "source": [
        "dataset = alpha_vanatage('AAPl','full')\n",
        "print(dataset.shape)"
      ],
      "execution_count": 0,
      "outputs": [
        {
          "output_type": "stream",
          "text": [
            "(5032, 6)\n"
          ],
          "name": "stdout"
        }
      ]
    },
    {
      "cell_type": "markdown",
      "metadata": {
        "id": "4wKl_oPYpD1e",
        "colab_type": "text"
      },
      "source": [
        "We have 5036 records with 6 features "
      ]
    },
    {
      "cell_type": "markdown",
      "metadata": {
        "id": "TcY0D2CZsYhg",
        "colab_type": "text"
      },
      "source": [
        "## **Data Preprocessing**"
      ]
    },
    {
      "cell_type": "markdown",
      "metadata": {
        "id": "VuxjyAUopJot",
        "colab_type": "text"
      },
      "source": [
        "Lets have a peek at first few rows of the dataset"
      ]
    },
    {
      "cell_type": "code",
      "metadata": {
        "id": "jShR1Gd4FgFi",
        "colab_type": "code",
        "outputId": "d6cb6320-7bac-4857-cf87-b58931b9b3a6",
        "colab": {
          "base_uri": "https://localhost:8080/",
          "height": 235
        }
      },
      "source": [
        "dataset.head()"
      ],
      "execution_count": 0,
      "outputs": [
        {
          "output_type": "execute_result",
          "data": {
            "text/html": [
              "<div>\n",
              "<style scoped>\n",
              "    .dataframe tbody tr th:only-of-type {\n",
              "        vertical-align: middle;\n",
              "    }\n",
              "\n",
              "    .dataframe tbody tr th {\n",
              "        vertical-align: top;\n",
              "    }\n",
              "\n",
              "    .dataframe thead th {\n",
              "        text-align: right;\n",
              "    }\n",
              "</style>\n",
              "<table border=\"1\" class=\"dataframe\">\n",
              "  <thead>\n",
              "    <tr style=\"text-align: right;\">\n",
              "      <th></th>\n",
              "      <th>index</th>\n",
              "      <th>1. open</th>\n",
              "      <th>2. high</th>\n",
              "      <th>3. low</th>\n",
              "      <th>4. close</th>\n",
              "      <th>5. volume</th>\n",
              "    </tr>\n",
              "    <tr>\n",
              "      <th>index</th>\n",
              "      <th></th>\n",
              "      <th></th>\n",
              "      <th></th>\n",
              "      <th></th>\n",
              "      <th></th>\n",
              "      <th></th>\n",
              "    </tr>\n",
              "  </thead>\n",
              "  <tbody>\n",
              "    <tr>\n",
              "      <th>0</th>\n",
              "      <td>2020-04-23</td>\n",
              "      <td>275.87</td>\n",
              "      <td>281.750</td>\n",
              "      <td>274.87</td>\n",
              "      <td>275.03</td>\n",
              "      <td>30856632.0</td>\n",
              "    </tr>\n",
              "    <tr>\n",
              "      <th>1</th>\n",
              "      <td>2020-04-22</td>\n",
              "      <td>273.61</td>\n",
              "      <td>277.900</td>\n",
              "      <td>272.20</td>\n",
              "      <td>276.10</td>\n",
              "      <td>29264342.0</td>\n",
              "    </tr>\n",
              "    <tr>\n",
              "      <th>2</th>\n",
              "      <td>2020-04-21</td>\n",
              "      <td>276.28</td>\n",
              "      <td>277.250</td>\n",
              "      <td>265.43</td>\n",
              "      <td>268.37</td>\n",
              "      <td>45247893.0</td>\n",
              "    </tr>\n",
              "    <tr>\n",
              "      <th>3</th>\n",
              "      <td>2020-04-20</td>\n",
              "      <td>277.95</td>\n",
              "      <td>281.680</td>\n",
              "      <td>276.85</td>\n",
              "      <td>276.93</td>\n",
              "      <td>32503750.0</td>\n",
              "    </tr>\n",
              "    <tr>\n",
              "      <th>4</th>\n",
              "      <td>2020-04-17</td>\n",
              "      <td>284.69</td>\n",
              "      <td>286.945</td>\n",
              "      <td>276.86</td>\n",
              "      <td>282.80</td>\n",
              "      <td>53812478.0</td>\n",
              "    </tr>\n",
              "  </tbody>\n",
              "</table>\n",
              "</div>"
            ],
            "text/plain": [
              "            index  1. open  2. high  3. low  4. close   5. volume\n",
              "index                                                            \n",
              "0      2020-04-23   275.87  281.750  274.87    275.03  30856632.0\n",
              "1      2020-04-22   273.61  277.900  272.20    276.10  29264342.0\n",
              "2      2020-04-21   276.28  277.250  265.43    268.37  45247893.0\n",
              "3      2020-04-20   277.95  281.680  276.85    276.93  32503750.0\n",
              "4      2020-04-17   284.69  286.945  276.86    282.80  53812478.0"
            ]
          },
          "metadata": {
            "tags": []
          },
          "execution_count": 13
        }
      ]
    },
    {
      "cell_type": "markdown",
      "metadata": {
        "id": "sTlPEgArPKSU",
        "colab_type": "text"
      },
      "source": [
        "Lets sort the data in increasing order of date"
      ]
    },
    {
      "cell_type": "code",
      "metadata": {
        "id": "U9zsGEzIPIx5",
        "colab_type": "code",
        "colab": {}
      },
      "source": [
        "dataset = dataset.iloc[::-1]"
      ],
      "execution_count": 0,
      "outputs": []
    },
    {
      "cell_type": "code",
      "metadata": {
        "id": "NM1hp2meP0kC",
        "colab_type": "code",
        "colab": {}
      },
      "source": [
        "dataset = dataset.set_index(pd.Series(range(dataset.shape[0])))"
      ],
      "execution_count": 0,
      "outputs": []
    },
    {
      "cell_type": "code",
      "metadata": {
        "id": "XQurKi6zPc_l",
        "colab_type": "code",
        "outputId": "e5dec389-12da-4b70-fbc6-ff86f7b11367",
        "colab": {
          "base_uri": "https://localhost:8080/",
          "height": 204
        }
      },
      "source": [
        "dataset.head()"
      ],
      "execution_count": 0,
      "outputs": [
        {
          "output_type": "execute_result",
          "data": {
            "text/html": [
              "<div>\n",
              "<style scoped>\n",
              "    .dataframe tbody tr th:only-of-type {\n",
              "        vertical-align: middle;\n",
              "    }\n",
              "\n",
              "    .dataframe tbody tr th {\n",
              "        vertical-align: top;\n",
              "    }\n",
              "\n",
              "    .dataframe thead th {\n",
              "        text-align: right;\n",
              "    }\n",
              "</style>\n",
              "<table border=\"1\" class=\"dataframe\">\n",
              "  <thead>\n",
              "    <tr style=\"text-align: right;\">\n",
              "      <th></th>\n",
              "      <th>index</th>\n",
              "      <th>1. open</th>\n",
              "      <th>2. high</th>\n",
              "      <th>3. low</th>\n",
              "      <th>4. close</th>\n",
              "      <th>5. volume</th>\n",
              "    </tr>\n",
              "  </thead>\n",
              "  <tbody>\n",
              "    <tr>\n",
              "      <th>0</th>\n",
              "      <td>2000-04-24</td>\n",
              "      <td>115.00</td>\n",
              "      <td>120.50</td>\n",
              "      <td>114.75</td>\n",
              "      <td>120.50</td>\n",
              "      <td>3960900.0</td>\n",
              "    </tr>\n",
              "    <tr>\n",
              "      <th>1</th>\n",
              "      <td>2000-04-25</td>\n",
              "      <td>122.12</td>\n",
              "      <td>128.75</td>\n",
              "      <td>122.06</td>\n",
              "      <td>128.31</td>\n",
              "      <td>3496800.0</td>\n",
              "    </tr>\n",
              "    <tr>\n",
              "      <th>2</th>\n",
              "      <td>2000-04-26</td>\n",
              "      <td>126.62</td>\n",
              "      <td>128.00</td>\n",
              "      <td>120.00</td>\n",
              "      <td>121.31</td>\n",
              "      <td>3276000.0</td>\n",
              "    </tr>\n",
              "    <tr>\n",
              "      <th>3</th>\n",
              "      <td>2000-04-27</td>\n",
              "      <td>117.19</td>\n",
              "      <td>127.00</td>\n",
              "      <td>116.58</td>\n",
              "      <td>126.75</td>\n",
              "      <td>2916100.0</td>\n",
              "    </tr>\n",
              "    <tr>\n",
              "      <th>4</th>\n",
              "      <td>2000-04-28</td>\n",
              "      <td>127.12</td>\n",
              "      <td>127.50</td>\n",
              "      <td>121.31</td>\n",
              "      <td>124.06</td>\n",
              "      <td>2228400.0</td>\n",
              "    </tr>\n",
              "  </tbody>\n",
              "</table>\n",
              "</div>"
            ],
            "text/plain": [
              "        index  1. open  2. high  3. low  4. close  5. volume\n",
              "0  2000-04-24   115.00   120.50  114.75    120.50  3960900.0\n",
              "1  2000-04-25   122.12   128.75  122.06    128.31  3496800.0\n",
              "2  2000-04-26   126.62   128.00  120.00    121.31  3276000.0\n",
              "3  2000-04-27   117.19   127.00  116.58    126.75  2916100.0\n",
              "4  2000-04-28   127.12   127.50  121.31    124.06  2228400.0"
            ]
          },
          "metadata": {
            "tags": []
          },
          "execution_count": 16
        }
      ]
    },
    {
      "cell_type": "markdown",
      "metadata": {
        "id": "bqOtpnUnOe6a",
        "colab_type": "text"
      },
      "source": [
        "Lets us visualize the complete trend from 2000 to current day."
      ]
    },
    {
      "cell_type": "code",
      "metadata": {
        "id": "nNe1PEyAN9rL",
        "colab_type": "code",
        "outputId": "cd2aaf0b-95e9-4253-9731-a456c9f79a04",
        "colab": {
          "base_uri": "https://localhost:8080/",
          "height": 410
        }
      },
      "source": [
        "plt.figure(figsize=(25,8))\n",
        "plt.plot(dataset['1. open'],color='green')"
      ],
      "execution_count": 0,
      "outputs": [
        {
          "output_type": "execute_result",
          "data": {
            "text/plain": [
              "[<matplotlib.lines.Line2D at 0x7f9785934518>]"
            ]
          },
          "metadata": {
            "tags": []
          },
          "execution_count": 17
        },
        {
          "output_type": "display_data",
          "data": {
            "image/png": "[encoded data removed]",
            "text/plain": [
              "<Figure size 1800x576 with 1 Axes>"
            ]
          },
          "metadata": {
            "tags": [],
            "needs_background": "light"
          }
        }
      ]
    },
    {
      "cell_type": "markdown",
      "metadata": {
        "id": "kqiiW50zTLHk",
        "colab_type": "text"
      },
      "source": [
        "We are trying to predict the trend in last 60days, \n",
        "Please find below the actual trend in last 60 days"
      ]
    },
    {
      "cell_type": "code",
      "metadata": {
        "id": "VlUv5oR-OqQh",
        "colab_type": "code",
        "outputId": "4e4ffa5b-0c1f-475f-9f4d-c18011e9d340",
        "colab": {
          "base_uri": "https://localhost:8080/",
          "height": 410
        }
      },
      "source": [
        "plt.figure(figsize=(25,8))\n",
        "plt.plot(dataset.iloc[-60:,1:2],color='red')"
      ],
      "execution_count": 0,
      "outputs": [
        {
          "output_type": "execute_result",
          "data": {
            "text/plain": [
              "[<matplotlib.lines.Line2D at 0x7f9785749d68>]"
            ]
          },
          "metadata": {
            "tags": []
          },
          "execution_count": 18
        },
        {
          "output_type": "display_data",
          "data": {
            "image/png": "[encoded data removed]",
            "text/plain": [
              "<Figure size 1800x576 with 1 Axes>"
            ]
          },
          "metadata": {
            "tags": [],
            "needs_background": "light"
          }
        }
      ]
    },
    {
      "cell_type": "code",
      "metadata": {
        "id": "HcdPIVjrFmOR",
        "colab_type": "code",
        "outputId": "0180e98a-9b8e-4478-cfb7-b6a7c330b62f",
        "colab": {
          "base_uri": "https://localhost:8080/",
          "height": 204
        }
      },
      "source": [
        "dataset.head()"
      ],
      "execution_count": 0,
      "outputs": [
        {
          "output_type": "execute_result",
          "data": {
            "text/html": [
              "<div>\n",
              "<style scoped>\n",
              "    .dataframe tbody tr th:only-of-type {\n",
              "        vertical-align: middle;\n",
              "    }\n",
              "\n",
              "    .dataframe tbody tr th {\n",
              "        vertical-align: top;\n",
              "    }\n",
              "\n",
              "    .dataframe thead th {\n",
              "        text-align: right;\n",
              "    }\n",
              "</style>\n",
              "<table border=\"1\" class=\"dataframe\">\n",
              "  <thead>\n",
              "    <tr style=\"text-align: right;\">\n",
              "      <th></th>\n",
              "      <th>index</th>\n",
              "      <th>1. open</th>\n",
              "      <th>2. high</th>\n",
              "      <th>3. low</th>\n",
              "      <th>4. close</th>\n",
              "      <th>5. volume</th>\n",
              "    </tr>\n",
              "  </thead>\n",
              "  <tbody>\n",
              "    <tr>\n",
              "      <th>0</th>\n",
              "      <td>2000-04-24</td>\n",
              "      <td>115.00</td>\n",
              "      <td>120.50</td>\n",
              "      <td>114.75</td>\n",
              "      <td>120.50</td>\n",
              "      <td>3960900.0</td>\n",
              "    </tr>\n",
              "    <tr>\n",
              "      <th>1</th>\n",
              "      <td>2000-04-25</td>\n",
              "      <td>122.12</td>\n",
              "      <td>128.75</td>\n",
              "      <td>122.06</td>\n",
              "      <td>128.31</td>\n",
              "      <td>3496800.0</td>\n",
              "    </tr>\n",
              "    <tr>\n",
              "      <th>2</th>\n",
              "      <td>2000-04-26</td>\n",
              "      <td>126.62</td>\n",
              "      <td>128.00</td>\n",
              "      <td>120.00</td>\n",
              "      <td>121.31</td>\n",
              "      <td>3276000.0</td>\n",
              "    </tr>\n",
              "    <tr>\n",
              "      <th>3</th>\n",
              "      <td>2000-04-27</td>\n",
              "      <td>117.19</td>\n",
              "      <td>127.00</td>\n",
              "      <td>116.58</td>\n",
              "      <td>126.75</td>\n",
              "      <td>2916100.0</td>\n",
              "    </tr>\n",
              "    <tr>\n",
              "      <th>4</th>\n",
              "      <td>2000-04-28</td>\n",
              "      <td>127.12</td>\n",
              "      <td>127.50</td>\n",
              "      <td>121.31</td>\n",
              "      <td>124.06</td>\n",
              "      <td>2228400.0</td>\n",
              "    </tr>\n",
              "  </tbody>\n",
              "</table>\n",
              "</div>"
            ],
            "text/plain": [
              "        index  1. open  2. high  3. low  4. close  5. volume\n",
              "0  2000-04-24   115.00   120.50  114.75    120.50  3960900.0\n",
              "1  2000-04-25   122.12   128.75  122.06    128.31  3496800.0\n",
              "2  2000-04-26   126.62   128.00  120.00    121.31  3276000.0\n",
              "3  2000-04-27   117.19   127.00  116.58    126.75  2916100.0\n",
              "4  2000-04-28   127.12   127.50  121.31    124.06  2228400.0"
            ]
          },
          "metadata": {
            "tags": []
          },
          "execution_count": 19
        }
      ]
    },
    {
      "cell_type": "markdown",
      "metadata": {
        "id": "8C-sSVQPYoTD",
        "colab_type": "text"
      },
      "source": [
        "Creating the train and test data from the original dataset"
      ]
    },
    {
      "cell_type": "code",
      "metadata": {
        "id": "awbmITtwFqMG",
        "colab_type": "code",
        "colab": {}
      },
      "source": [
        "dataset_train = dataset.iloc[:4971,:]"
      ],
      "execution_count": 0,
      "outputs": []
    },
    {
      "cell_type": "code",
      "metadata": {
        "id": "oRaOIWLcFrWH",
        "colab_type": "code",
        "colab": {}
      },
      "source": [
        "dataset_test = dataset.iloc[-60:,:]"
      ],
      "execution_count": 0,
      "outputs": []
    },
    {
      "cell_type": "code",
      "metadata": {
        "id": "3t7Hk2XoFt5-",
        "colab_type": "code",
        "outputId": "7ffa4f44-b987-40a4-f122-52ae1bb22a5d",
        "colab": {
          "base_uri": "https://localhost:8080/",
          "height": 34
        }
      },
      "source": [
        "print(dataset_train.shape,dataset_test.shape)"
      ],
      "execution_count": 0,
      "outputs": [
        {
          "output_type": "stream",
          "text": [
            "(4971, 6) (60, 6)\n"
          ],
          "name": "stdout"
        }
      ]
    },
    {
      "cell_type": "markdown",
      "metadata": {
        "id": "Z6hwqtsFKfIq",
        "colab_type": "text"
      },
      "source": [
        "To create a numpy array of train values"
      ]
    },
    {
      "cell_type": "code",
      "metadata": {
        "id": "qgwxF8MuFydS",
        "colab_type": "code",
        "colab": {}
      },
      "source": [
        "train = dataset_train.iloc[:,1:2].values"
      ],
      "execution_count": 0,
      "outputs": []
    },
    {
      "cell_type": "markdown",
      "metadata": {
        "id": "DVCoVxN1Kri3",
        "colab_type": "text"
      },
      "source": [
        "We have a numpy array of one column"
      ]
    },
    {
      "cell_type": "code",
      "metadata": {
        "id": "pGWsi-KtF2tQ",
        "colab_type": "code",
        "outputId": "5bd23c09-c414-4ff9-dc9d-4fafbbd84b7f",
        "colab": {
          "base_uri": "https://localhost:8080/",
          "height": 187
        }
      },
      "source": [
        "train[:10]"
      ],
      "execution_count": 0,
      "outputs": [
        {
          "output_type": "execute_result",
          "data": {
            "text/plain": [
              "array([[115.  ],\n",
              "       [122.12],\n",
              "       [126.62],\n",
              "       [117.19],\n",
              "       [127.12],\n",
              "       [124.87],\n",
              "       [123.25],\n",
              "       [118.94],\n",
              "       [115.12],\n",
              "       [110.81]])"
            ]
          },
          "metadata": {
            "tags": []
          },
          "execution_count": 24
        }
      ]
    },
    {
      "cell_type": "markdown",
      "metadata": {
        "id": "uwGfMz5WLaWh",
        "colab_type": "text"
      },
      "source": [
        "## **Feature Scaling**"
      ]
    },
    {
      "cell_type": "markdown",
      "metadata": {
        "id": "nsQY7i8xuZMB",
        "colab_type": "text"
      },
      "source": [
        "Using MinMaxScalar to normalize the data"
      ]
    },
    {
      "cell_type": "code",
      "metadata": {
        "id": "Ywf2pTYCF5oi",
        "colab_type": "code",
        "colab": {}
      },
      "source": [
        "scale = MinMaxScaler(feature_range=(0,1))"
      ],
      "execution_count": 0,
      "outputs": []
    },
    {
      "cell_type": "code",
      "metadata": {
        "id": "4CmVyQLjF6rF",
        "colab_type": "code",
        "colab": {}
      },
      "source": [
        "train_scaled = scale.fit_transform(train)"
      ],
      "execution_count": 0,
      "outputs": []
    },
    {
      "cell_type": "code",
      "metadata": {
        "id": "C7JYIEMYF9K3",
        "colab_type": "code",
        "outputId": "c1a58943-5626-4ce2-bdbe-1a42aa1b73a3",
        "colab": {
          "base_uri": "https://localhost:8080/",
          "height": 187
        }
      },
      "source": [
        "train_scaled[:10]"
      ],
      "execution_count": 0,
      "outputs": [
        {
          "output_type": "execute_result",
          "data": {
            "text/plain": [
              "array([[0.14796496],\n",
              "       [0.15829248],\n",
              "       [0.1648197 ],\n",
              "       [0.15114154],\n",
              "       [0.16554495],\n",
              "       [0.16228134],\n",
              "       [0.15993154],\n",
              "       [0.1536799 ],\n",
              "       [0.14813902],\n",
              "       [0.14188738]])"
            ]
          },
          "metadata": {
            "tags": []
          },
          "execution_count": 27
        }
      ]
    },
    {
      "cell_type": "markdown",
      "metadata": {
        "id": "pDqrV-3SN_z2",
        "colab_type": "text"
      },
      "source": [
        "## **Creating a training data structure** "
      ]
    },
    {
      "cell_type": "markdown",
      "metadata": {
        "id": "wFqk5BmpQmca",
        "colab_type": "text"
      },
      "source": [
        "This means that model is going to take 120 stock prices before time T in which RNNs are going to learn and understand some correlations and based on its understanding its going to predict the next output"
      ]
    },
    {
      "cell_type": "markdown",
      "metadata": {
        "id": "M2AaSSIMRT4R",
        "colab_type": "text"
      },
      "source": [
        "We can try the above by considering different timestamps"
      ]
    },
    {
      "cell_type": "code",
      "metadata": {
        "id": "L-BMrun2Sgqq",
        "colab_type": "code",
        "colab": {}
      },
      "source": [
        "time_len = 120"
      ],
      "execution_count": 0,
      "outputs": []
    },
    {
      "cell_type": "code",
      "metadata": {
        "id": "NVoppuNWF_Zt",
        "colab_type": "code",
        "colab": {}
      },
      "source": [
        "X_train = []\n",
        "y_train = []\n",
        "for i in range(time_len,dataset_train.shape[0]):\n",
        "    X_train.append(train_scaled[i-time_len:i,0])\n",
        "    y_train.append(train_scaled[i,0])\n",
        "X_train,y_train = np.array(X_train),np.array(y_train) #converting to numpy arrays so that they can be accepted in futute to our RNNs"
      ],
      "execution_count": 0,
      "outputs": []
    },
    {
      "cell_type": "markdown",
      "metadata": {
        "id": "ipjsIXx_Rsh0",
        "colab_type": "text"
      },
      "source": [
        "X_train will contain the 120 previous stock prices for current financial day.\n",
        "\n",
        "y_train will contain will contain stock price for current financial day"
      ]
    },
    {
      "cell_type": "code",
      "metadata": {
        "id": "k_PxRE2yTlKx",
        "colab_type": "code",
        "outputId": "512f1ee1-9165-4525-f26f-6b49c7de6fbf",
        "colab": {
          "base_uri": "https://localhost:8080/",
          "height": 357
        }
      },
      "source": [
        "print(X_train[0],y_train[0])"
      ],
      "execution_count": 0,
      "outputs": [
        {
          "output_type": "stream",
          "text": [
            "[0.14796496 0.15829248 0.1648197  0.15114154 0.16554495 0.16228134\n",
            " 0.15993154 0.1536799  0.14813902 0.14188738 0.14374402 0.14116214\n",
            " 0.13209654 0.12819471 0.1349105  0.13789852 0.13276377 0.13145833\n",
            " 0.13055902 0.12511967 0.11714195 0.11242784 0.10617621 0.10952685\n",
            " 0.1088016  0.10825041 0.10716254 0.09973601 0.11714195 0.11650373\n",
            " 0.11456006 0.11695338 0.12275536 0.12149343 0.12094224 0.11342868\n",
            " 0.11850541 0.11351571 0.11677932 0.11251487 0.12403179 0.05440805\n",
            " 0.06202315 0.05916568 0.05730904 0.05916568 0.05848394 0.05812132\n",
            " 0.0577587  0.05677236 0.05839691 0.05730904 0.05743959 0.05961533\n",
            " 0.06383627 0.06547533 0.06601201 0.06402483 0.06564939 0.06601201\n",
            " 0.06121087 0.06093528 0.06000696 0.05739607 0.05413246 0.05345073\n",
            " 0.05368281 0.05698993 0.05246439 0.05413246 0.05223231 0.04724261\n",
            " 0.05291404 0.05060776 0.05069479 0.05097038 0.05078182 0.04909924\n",
            " 0.05018711 0.04969395 0.04915726 0.051333   0.05568449 0.05404543\n",
            " 0.05459662 0.05581503 0.06045662 0.06311102 0.06419889 0.0651127\n",
            " 0.06673726 0.06669374 0.0700879  0.07204607 0.07018943 0.06692582\n",
            " 0.07055206 0.0662876  0.06432944 0.06347364 0.06609904 0.06492414\n",
            " 0.0612979  0.06782513 0.06733196 0.06601201 0.05413246 0.05767167\n",
            " 0.05848394 0.05622117 0.05268196 0.02204752 0.01987178 0.01733341\n",
            " 0.01360564 0.0152447  0.0140698  0.01396826 0.01251777 0.01034203] 0.010617620608627542\n"
          ],
          "name": "stdout"
        }
      ]
    },
    {
      "cell_type": "markdown",
      "metadata": {
        "id": "0SDYKnF5TxUO",
        "colab_type": "text"
      },
      "source": [
        "We can see our dataframe with 120 previews of previous stock of the taken financial day"
      ]
    },
    {
      "cell_type": "markdown",
      "metadata": {
        "id": "lOpqqStPUlme",
        "colab_type": "text"
      },
      "source": [
        "We need to create the new dimensionality of the above mentioned new data structure, because that exactly is accepted by the future recurrent network. [Reference](https://keras.io/layers/recurrent/)"
      ]
    },
    {
      "cell_type": "code",
      "metadata": {
        "id": "xtuNmunDGDzv",
        "colab_type": "code",
        "colab": {}
      },
      "source": [
        "X_train = np.reshape(X_train,(X_train.shape[0],X_train.shape[1],1))"
      ],
      "execution_count": 0,
      "outputs": []
    },
    {
      "cell_type": "markdown",
      "metadata": {
        "id": "gt5GWmEXskWN",
        "colab_type": "text"
      },
      "source": [
        "## **Model for a Bidirectional LSTM**"
      ]
    },
    {
      "cell_type": "code",
      "metadata": {
        "colab_type": "code",
        "id": "QeiG_IUm2FQP",
        "colab": {}
      },
      "source": [
        "model = Sequential()\n",
        "model.add(Bidirectional(LSTM(units=50,return_sequences=True,input_shape = (X_train.shape[1],1))))\n",
        "model.add(Dropout(0.2))\n",
        "model.add(Bidirectional(LSTM(units=50,return_sequences=True)))\n",
        "model.add(Dropout(0.2))\n",
        "model.add(Bidirectional(LSTM(units=50,return_sequences=True)))\n",
        "model.add(Dropout(0.2))\n",
        "model.add(Bidirectional(LSTM(units=50)))\n",
        "model.add(Dropout(0.2))\n",
        "model.add(Dense(units=1))"
      ],
      "execution_count": 0,
      "outputs": []
    },
    {
      "cell_type": "markdown",
      "metadata": {
        "id": "Ep4tN96yvVXL",
        "colab_type": "text"
      },
      "source": [
        "Compiling the model, specifying the optimizer and loss function"
      ]
    },
    {
      "cell_type": "code",
      "metadata": {
        "colab_type": "code",
        "id": "8xxaM2RK2FQS",
        "colab": {}
      },
      "source": [
        "model.compile(optimizer='RMSProp',loss='mean_squared_error')"
      ],
      "execution_count": 0,
      "outputs": []
    },
    {
      "cell_type": "markdown",
      "metadata": {
        "colab_type": "text",
        "id": "A9IQ4oet2FQV"
      },
      "source": [
        "RMSProp optimizer is preferred for RNNs [Reference](https://keras.io/optimizers/)"
      ]
    },
    {
      "cell_type": "markdown",
      "metadata": {
        "id": "21vQhYIVva7l",
        "colab_type": "text"
      },
      "source": [
        "Now lets train our model"
      ]
    },
    {
      "cell_type": "code",
      "metadata": {
        "colab_type": "code",
        "outputId": "95d22596-6ff8-426b-ee37-8c198da3207e",
        "id": "nQFr1AGc2FQV",
        "colab": {
          "base_uri": "https://localhost:8080/",
          "height": 714
        }
      },
      "source": [
        "model.fit(X_train,y_train,epochs=20,batch_size=32)"
      ],
      "execution_count": 0,
      "outputs": [
        {
          "output_type": "stream",
          "text": [
            "Epoch 1/20\n",
            "4851/4851 [==============================] - 70s 14ms/step - loss: 0.0064\n",
            "Epoch 2/20\n",
            "4851/4851 [==============================] - 69s 14ms/step - loss: 0.0032\n",
            "Epoch 3/20\n",
            "4851/4851 [==============================] - 69s 14ms/step - loss: 0.0025\n",
            "Epoch 4/20\n",
            "4851/4851 [==============================] - 69s 14ms/step - loss: 0.0021\n",
            "Epoch 5/20\n",
            "4851/4851 [==============================] - 69s 14ms/step - loss: 0.0019\n",
            "Epoch 6/20\n",
            "4851/4851 [==============================] - 69s 14ms/step - loss: 0.0018\n",
            "Epoch 7/20\n",
            "4851/4851 [==============================] - 69s 14ms/step - loss: 0.0016\n",
            "Epoch 8/20\n",
            "4851/4851 [==============================] - 69s 14ms/step - loss: 0.0014\n",
            "Epoch 9/20\n",
            "4851/4851 [==============================] - 68s 14ms/step - loss: 0.0014\n",
            "Epoch 10/20\n",
            "4851/4851 [==============================] - 68s 14ms/step - loss: 0.0014\n",
            "Epoch 11/20\n",
            "4851/4851 [==============================] - 68s 14ms/step - loss: 0.0012\n",
            "Epoch 12/20\n",
            "4851/4851 [==============================] - 68s 14ms/step - loss: 0.0013\n",
            "Epoch 13/20\n",
            "4851/4851 [==============================] - 68s 14ms/step - loss: 0.0012\n",
            "Epoch 14/20\n",
            "4851/4851 [==============================] - 68s 14ms/step - loss: 0.0011\n",
            "Epoch 15/20\n",
            "4851/4851 [==============================] - 68s 14ms/step - loss: 0.0011\n",
            "Epoch 16/20\n",
            "4851/4851 [==============================] - 73s 15ms/step - loss: 0.0011\n",
            "Epoch 17/20\n",
            "4851/4851 [==============================] - 69s 14ms/step - loss: 0.0011\n",
            "Epoch 18/20\n",
            "4851/4851 [==============================] - 69s 14ms/step - loss: 0.0011\n",
            "Epoch 19/20\n",
            "4851/4851 [==============================] - 69s 14ms/step - loss: 0.0011\n",
            "Epoch 20/20\n",
            "4851/4851 [==============================] - 69s 14ms/step - loss: 0.0010\n"
          ],
          "name": "stdout"
        },
        {
          "output_type": "execute_result",
          "data": {
            "text/plain": [
              "<keras.callbacks.callbacks.History at 0x7f9785777400>"
            ]
          },
          "metadata": {
            "tags": []
          },
          "execution_count": 34
        }
      ]
    },
    {
      "cell_type": "markdown",
      "metadata": {
        "id": "qG13VhauvgGL",
        "colab_type": "text"
      },
      "source": [
        "Lets look at the network architecture"
      ]
    },
    {
      "cell_type": "code",
      "metadata": {
        "colab_type": "code",
        "outputId": "f26d4aa2-1168-40a2-c6d9-aa3f3888add9",
        "id": "RJkxcGim2FQY",
        "colab": {
          "base_uri": "https://localhost:8080/",
          "height": 459
        }
      },
      "source": [
        "model.summary()"
      ],
      "execution_count": 0,
      "outputs": [
        {
          "output_type": "stream",
          "text": [
            "Model: \"sequential_1\"\n",
            "_________________________________________________________________\n",
            "Layer (type)                 Output Shape              Param #   \n",
            "=================================================================\n",
            "bidirectional_1 (Bidirection (None, 120, 100)          20800     \n",
            "_________________________________________________________________\n",
            "dropout_1 (Dropout)          (None, 120, 100)          0         \n",
            "_________________________________________________________________\n",
            "bidirectional_2 (Bidirection (None, 120, 100)          60400     \n",
            "_________________________________________________________________\n",
            "dropout_2 (Dropout)          (None, 120, 100)          0         \n",
            "_________________________________________________________________\n",
            "bidirectional_3 (Bidirection (None, 120, 100)          60400     \n",
            "_________________________________________________________________\n",
            "dropout_3 (Dropout)          (None, 120, 100)          0         \n",
            "_________________________________________________________________\n",
            "bidirectional_4 (Bidirection (None, 100)               60400     \n",
            "_________________________________________________________________\n",
            "dropout_4 (Dropout)          (None, 100)               0         \n",
            "_________________________________________________________________\n",
            "dense_1 (Dense)              (None, 1)                 101       \n",
            "=================================================================\n",
            "Total params: 202,101\n",
            "Trainable params: 202,101\n",
            "Non-trainable params: 0\n",
            "_________________________________________________________________\n"
          ],
          "name": "stdout"
        }
      ]
    },
    {
      "cell_type": "markdown",
      "metadata": {
        "colab_type": "text",
        "id": "TEgj8eiOML0l"
      },
      "source": [
        "## **Creating a test data structure - Bidirectional RNN**"
      ]
    },
    {
      "cell_type": "markdown",
      "metadata": {
        "colab_type": "text",
        "id": "X5bug9Xf2FQb"
      },
      "source": [
        "Get the real stock price from testing dataset and convert it to numpy array"
      ]
    },
    {
      "cell_type": "code",
      "metadata": {
        "colab_type": "code",
        "id": "PZ3eE7ZXML0n",
        "colab": {}
      },
      "source": [
        "real_stock_price = dataset_test.iloc[:,1:2].values"
      ],
      "execution_count": 0,
      "outputs": []
    },
    {
      "cell_type": "code",
      "metadata": {
        "colab_type": "code",
        "id": "RksybBnrML0p",
        "colab": {}
      },
      "source": [
        "dataset_total = pd.concat((dataset_train['1. open'],dataset_test['1. open']),axis=0)"
      ],
      "execution_count": 0,
      "outputs": []
    },
    {
      "cell_type": "code",
      "metadata": {
        "colab_type": "code",
        "id": "A1NH32-XML0s",
        "colab": {}
      },
      "source": [
        "inputs = dataset_total[len(dataset_total)-len(dataset_test)-120:].values"
      ],
      "execution_count": 0,
      "outputs": []
    },
    {
      "cell_type": "code",
      "metadata": {
        "colab_type": "code",
        "outputId": "f76d567a-8be5-48c2-bece-7f8945621e34",
        "id": "13zt4UHvML0u",
        "colab": {
          "base_uri": "https://localhost:8080/",
          "height": 34
        }
      },
      "source": [
        "inputs.shape"
      ],
      "execution_count": 0,
      "outputs": [
        {
          "output_type": "execute_result",
          "data": {
            "text/plain": [
              "(180,)"
            ]
          },
          "metadata": {
            "tags": []
          },
          "execution_count": 39
        }
      ]
    },
    {
      "cell_type": "markdown",
      "metadata": {
        "colab_type": "text",
        "id": "qIhva2aLML0w"
      },
      "source": [
        "As mentioned above we have to change the input shape"
      ]
    },
    {
      "cell_type": "code",
      "metadata": {
        "colab_type": "code",
        "id": "kCmboIP-ML0x",
        "colab": {}
      },
      "source": [
        "inputs = inputs.reshape(-1,1)"
      ],
      "execution_count": 0,
      "outputs": []
    },
    {
      "cell_type": "code",
      "metadata": {
        "colab_type": "code",
        "outputId": "39673ce4-4e3d-4f50-e2f6-3764d2ab6bdd",
        "id": "Yu3dfSRfML0z",
        "colab": {
          "base_uri": "https://localhost:8080/",
          "height": 34
        }
      },
      "source": [
        "inputs.shape"
      ],
      "execution_count": 0,
      "outputs": [
        {
          "output_type": "execute_result",
          "data": {
            "text/plain": [
              "(180, 1)"
            ]
          },
          "metadata": {
            "tags": []
          },
          "execution_count": 41
        }
      ]
    },
    {
      "cell_type": "markdown",
      "metadata": {
        "colab_type": "text",
        "id": "5fgRiCiAML03"
      },
      "source": [
        "As done before we are doing feature scaling for the this data too."
      ]
    },
    {
      "cell_type": "code",
      "metadata": {
        "colab_type": "code",
        "id": "1Xt_bLUGML03",
        "colab": {}
      },
      "source": [
        "inputs = scale.transform(inputs)"
      ],
      "execution_count": 0,
      "outputs": []
    },
    {
      "cell_type": "markdown",
      "metadata": {
        "colab_type": "text",
        "id": "i0t-jD9iML05"
      },
      "source": [
        "Creating X_test datastructure similar to X_train"
      ]
    },
    {
      "cell_type": "code",
      "metadata": {
        "colab_type": "code",
        "id": "izH-Iq8pML06",
        "colab": {}
      },
      "source": [
        "X_test = []\n",
        "for i in range(120,120+60):\n",
        "    X_test.append(inputs[i-120:i,0])\n",
        "X_test = np.array(X_test)\n",
        "X_test = np.reshape(X_test,(X_test.shape[0],X_test.shape[1],1))"
      ],
      "execution_count": 0,
      "outputs": []
    },
    {
      "cell_type": "markdown",
      "metadata": {
        "colab_type": "text",
        "id": "ASFw5MZxML08"
      },
      "source": [
        "## **Prediction - Bidirectional RNN**"
      ]
    },
    {
      "cell_type": "code",
      "metadata": {
        "colab_type": "code",
        "id": "UPXXmYjUML08",
        "colab": {}
      },
      "source": [
        "predicted_stock_price = model.predict(X_test)\n",
        "predicted_stock_price = scale.inverse_transform(predicted_stock_price) #inversing the scaling"
      ],
      "execution_count": 0,
      "outputs": []
    },
    {
      "cell_type": "markdown",
      "metadata": {
        "colab_type": "text",
        "id": "00FrORb6ML0-"
      },
      "source": [
        "## **Visualizing the results - Bidirectional RNN**"
      ]
    },
    {
      "cell_type": "code",
      "metadata": {
        "colab_type": "code",
        "outputId": "7ed8e2fb-0c84-44d7-9195-4eb1b5c4ad0d",
        "id": "d4QRTFGrML0_",
        "colab": {
          "base_uri": "https://localhost:8080/",
          "height": 513
        }
      },
      "source": [
        "plt.figure(figsize=(15,8))\n",
        "plt.plot(real_stock_price,color='red',label='Actual Stock Price')\n",
        "plt.plot(predicted_stock_price,color='blue',label='Predicted Stock Price')\n",
        "plt.title('Apple Stock Price Prediction',color='blue')\n",
        "plt.xlabel('Time')\n",
        "plt.ylabel('XYZ Stock Price')\n",
        "plt.legend()\n",
        "plt.show()"
      ],
      "execution_count": 0,
      "outputs": [
        {
          "output_type": "display_data",
          "data": {
            "image/png": "[encoded data removed]",
            "text/plain": [
              "<Figure size 1080x576 with 1 Axes>"
            ]
          },
          "metadata": {
            "tags": [],
            "needs_background": "light"
          }
        }
      ]
    },
    {
      "cell_type": "markdown",
      "metadata": {
        "id": "foPs7MNCdNyb",
        "colab_type": "text"
      },
      "source": [
        "From the above graph, it is evident that there is an improvement in how closely we are able to predict the trend in the stock price changes using Bidirectional LSTM compared to LSTM."
      ]
    },
    {
      "cell_type": "code",
      "metadata": {
        "id": "4FBIdrqXnMzY",
        "colab_type": "code",
        "colab": {}
      },
      "source": [
        ""
      ],
      "execution_count": 0,
      "outputs": []
    },
    {
      "cell_type": "markdown",
      "metadata": {
        "id": "NqYapgH6Jb1k",
        "colab_type": "text"
      },
      "source": [
        "# **LICENSE**"
      ]
    },
    {
      "cell_type": "markdown",
      "metadata": {
        "id": "ri_ZG0LMJfba",
        "colab_type": "text"
      },
      "source": [
        "Copyright 2020 Harika Reddy Gurram\n",
        "\n",
        "Permission is hereby granted, free of charge, to any person obtaining a copy of this software and associated documentation files (the \"Software\"), to deal in the Software without restriction, including without limitation the rights to use, copy, modify, merge, publish, distribute, sublicense, and/or sell copies of the Software, and to permit persons to whom the Software is furnished to do so, subject to the following conditions:\n",
        "\n",
        "The above copyright notice and this permission notice shall be included in all copies or substantial portions of the Software.\n",
        "\n",
        "THE SOFTWARE IS PROVIDED \"AS IS\", WITHOUT WARRANTY OF ANY KIND, EXPRESS OR IMPLIED, INCLUDING BUT NOT LIMITED TO THE WARRANTIES OF MERCHANTABILITY, FITNESS FOR A PARTICULAR PURPOSE AND NONINFRINGEMENT. IN NO EVENT SHALL THE AUTHORS OR COPYRIGHT HOLDERS BE LIABLE FOR ANY CLAIM, DAMAGES OR OTHER LIABILITY, WHETHER IN AN ACTION OF CONTRACT, TORT OR OTHERWISE, ARISING FROM, OUT OF OR IN CONNECTION WITH THE SOFTWARE OR THE USE OR OTHER DEALINGS IN THE SOFTWARE."
      ]
    },
    {
      "cell_type": "code",
      "metadata": {
        "id": "XmUzbt3CJp69",
        "colab_type": "code",
        "colab": {}
      },
      "source": [
        ""
      ],
      "execution_count": 0,
      "outputs": []
    }
  ]
}